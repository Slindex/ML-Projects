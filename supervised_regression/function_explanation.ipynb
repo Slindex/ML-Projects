{
 "cells": [
  {
   "cell_type": "markdown",
   "metadata": {},
   "source": [
    "### Dependencies"
   ]
  },
  {
   "cell_type": "code",
   "execution_count": 3,
   "metadata": {},
   "outputs": [],
   "source": [
    "# File Management libraries\n",
    "import tarfile\n",
    "import urllib.request\n",
    "from pathlib import Path"
   ]
  },
  {
   "cell_type": "markdown",
   "metadata": {},
   "source": [
    "### Download Data"
   ]
  },
  {
   "cell_type": "markdown",
   "metadata": {},
   "source": [
    "This function downloads the Housing data zip file from a GitHub repository, create the 'data' directory if not exists and finally extracts the content from the zip file"
   ]
  },
  {
   "cell_type": "code",
   "execution_count": 16,
   "metadata": {},
   "outputs": [],
   "source": [
    "def downloadHousingData():\n",
    "\n",
    "    # Defining the zip path and the csv path\n",
    "    zipfilePath = Path('data/housing.tgz')\n",
    "    housingPath = Path('data/housing.csv')\n",
    "\n",
    "    # Checking if the zip file not exists\n",
    "    if not zipfilePath.is_file():\n",
    "\n",
    "        # Making the data/ directory\n",
    "        Path('data').mkdir(parents=True, exist_ok=True)\n",
    "        print('data/ directory created')\n",
    "\n",
    "        # Setting the URL for downloading the data\n",
    "        URL = 'https://github.com/ageron/data/raw/main/housing.tgz'\n",
    "\n",
    "        # Downloading the data from the URL into the zip path\n",
    "        urllib.request.urlretrieve(URL, zipfilePath)\n",
    "        print(f'data downloaded from {URL}')\n",
    "\n",
    "    # Checking if the csv file not exists\n",
    "    if not housingPath.is_file():\n",
    "\n",
    "        # Open the zip file and extract the content\n",
    "        with tarfile.open(zipfilePath) as housing_zip:\n",
    "            housing_zip.extractall(path='data')\n",
    "        print('Content Extracted into data/')\n",
    "\n",
    "        # Move the csv file to the data directory\n",
    "        csvPath = Path('data/housing/housing.csv')\n",
    "        csvPath.rename(Path('data/housing.csv'))\n",
    "\n",
    "        # Remove the housing/ directory from data/\n",
    "        housingDirPath = Path('data/housing')\n",
    "        housingDirPath.rmdir()"
   ]
  }
 ],
 "metadata": {
  "kernelspec": {
   "display_name": ".venv",
   "language": "python",
   "name": "python3"
  },
  "language_info": {
   "codemirror_mode": {
    "name": "ipython",
    "version": 3
   },
   "file_extension": ".py",
   "mimetype": "text/x-python",
   "name": "python",
   "nbconvert_exporter": "python",
   "pygments_lexer": "ipython3",
   "version": "3.12.0"
  }
 },
 "nbformat": 4,
 "nbformat_minor": 2
}
